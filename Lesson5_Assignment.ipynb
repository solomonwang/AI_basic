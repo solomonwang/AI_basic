{
 "cells": [
  {
   "cell_type": "markdown",
   "metadata": {},
   "source": [
    "各位同学，大家好!  欢迎各位开始学习我们的人工智能课程。  \n",
    "这门课程假设大家不具备机器学习和人工智能的知识，但是希望大家具备初级的Python编程能力。  \n",
    "这门课程结束后，希望大家掌握Python语言以及人工智能基础知识，对CV，NLP，RS领域有一定深入的理解与编程能力。"
   ]
  },
  {
   "cell_type": "markdown",
   "metadata": {},
   "source": [
    "# 本次作业要求"
   ]
  },
  {
   "cell_type": "markdown",
   "metadata": {},
   "source": [
    "## 作业形式"
   ]
  },
  {
   "cell_type": "markdown",
   "metadata": {},
   "source": [
    "复现课程代码  \n",
    "完成课后作业"
   ]
  },
  {
   "cell_type": "markdown",
   "metadata": {},
   "source": [
    "## 作业提交方式"
   ]
  },
  {
   "cell_type": "markdown",
   "metadata": {},
   "source": [
    "完成填写此`jupyter`文件，提交至自己的github，或通过KKB作业平台提交附件"
   ]
  },
  {
   "cell_type": "markdown",
   "metadata": {},
   "source": [
    "## 作业截止时间"
   ]
  },
  {
   "cell_type": "markdown",
   "metadata": {},
   "source": [
    "每次课程作业都会在下次课程(2019年11月8日)进行讲解，请在一周内尽快提交。  \n",
    "此次作业批改截止时间：2019年11月15日"
   ]
  },
  {
   "cell_type": "markdown",
   "metadata": {},
   "source": [
    "# 完成以下问答和编程练习"
   ]
  },
  {
   "cell_type": "markdown",
   "metadata": {},
   "source": [
    "**理论部分**\n",
    "1. 验证多重继承的属性规则，请选择\n",
    "- 就近原则\n",
    "- 随机原则\n",
    "- 类定义的先后原则"
   ]
  },
  {
   "cell_type": "code",
   "execution_count": 1,
   "metadata": {},
   "outputs": [
    {
     "name": "stdout",
     "output_type": "stream",
     "text": [
      "A0\n",
      "1\n"
     ]
    }
   ],
   "source": [
    "class A0:\n",
    "    name = 'A0'\n",
    "    \n",
    "class A2(A0):\n",
    "    num = 2\n",
    "    \n",
    "class A1:\n",
    "    num = 1\n",
    "    \n",
    "class A3:\n",
    "    name = 'A3'\n",
    "    \n",
    "class A4(A1,A2,A3):\n",
    "    pass\n",
    " \n",
    "ins = A4()\n",
    "print(ins.name) # \n",
    "print(ins.num) # "
   ]
  },
  {
   "cell_type": "markdown",
   "metadata": {},
   "source": [
    "**编程实践部分**"
   ]
  },
  {
   "cell_type": "markdown",
   "metadata": {},
   "source": [
    "1. 完成ATM的类实现  \n",
    "将第二次课程的ATM机器改写成类实现"
   ]
  },
  {
   "cell_type": "code",
   "execution_count": 2,
   "metadata": {},
   "outputs": [
    {
     "name": "stdout",
     "output_type": "stream",
     "text": [
      "\n",
      "===========\n",
      "请选择操作\n",
      "1. 查询余额\n",
      "2. 存款\n",
      "3. 取款\n",
      "4. 退出\n",
      "===========\n",
      "1\n",
      "当前余额为：555\n",
      "\n",
      "===========\n",
      "请选择操作\n",
      "1. 查询余额\n",
      "2. 存款\n",
      "3. 取款\n",
      "4. 退出\n",
      "===========\n",
      "4\n",
      "退出成功\n",
      "555\n"
     ]
    }
   ],
   "source": [
    "class BankCard():\n",
    "    def __init__(self,name,idcard,phone,balance=0):\n",
    "        self.balance = balance\n",
    "        self.name = name\n",
    "        self.idcard = idcard\n",
    "        self.phone = phone\n",
    "class ATM():\n",
    "    def __init__(self,bankCard):\n",
    "        self.bankCard = bankCard\n",
    "    def menu(self):\n",
    "        while(1):\n",
    "            choice_info = \"\"\"\n",
    "===========\n",
    "请选择操作\n",
    "1. 查询余额\n",
    "2. 存款\n",
    "3. 取款\n",
    "4. 退出\n",
    "===========\n",
    "\"\"\"\n",
    "            choice = input(choice_info)\n",
    "            if choice == '1':\n",
    "                self.show_balance()\n",
    "            elif choice == '2':\n",
    "                self.deposit()\n",
    "            elif choice == '3':\n",
    "                self.draw()\n",
    "            elif choice == '4':\n",
    "                print(\"退出成功\")\n",
    "                break\n",
    "            else:\n",
    "               print(\"选择错误，请重新选择\") \n",
    "        \n",
    "    def show_balance(self):\n",
    "        print(\"当前余额为：{0}\".format(self.bankCard.balance))\n",
    "    def deposit(self):\n",
    "        add = int(input(\"请输入要存款的金额：\"))\n",
    "        self.bankCard.balance += add\n",
    "        print(\"存款成功，存款金额为：{0}，当前余额为：{1}\".format(add,self.bankCard.balance))\n",
    "    def draw(self):\n",
    "        out = int(input(\"请输入要取款的金额：\"))\n",
    "        if out > self.bankCard.balance:\n",
    "            print(\"余额不足，取款失败！当前余额为：%d\" %self.bankCard.balance)\n",
    "        else :\n",
    "            self.bankCard.balance -= out\n",
    "            print(\"取款成功，取款金额为：%d，当前余额为：%d\" %(out,self.bankCard.balance))\n",
    "\n",
    "cardA = BankCard('老板','111111','13122222222',555)\n",
    "atm =ATM(cardA)\n",
    "atm.menu()\n",
    "print(cardA.balance)"
   ]
  },
  {
   "cell_type": "markdown",
   "metadata": {},
   "source": [
    "2. 练习会先提供一个李靖类，用以记录人物角色的战斗力。需要你创建一个子类哪吒类，提供属性和参数的修改。  \n",
    "要求： 在哪吒的初始化方法中，默认添加`['混天绫', '乾坤圈']` 两个装备,以及初始化战斗力为50."
   ]
  },
  {
   "cell_type": "code",
   "execution_count": 14,
   "metadata": {},
   "outputs": [
    {
     "name": "stdout",
     "output_type": "stream",
     "text": [
      "[]\n",
      "60\n"
     ]
    }
   ],
   "source": [
    "# 代码不用修改，读懂后运行即可。\n",
    "class Lijing: # 李靖\n",
    "    # 初始化函数，为每个实例创建4个参数（其中后3个参数有默认值）\n",
    "    def __init__(self, name, weapons=[], power=10): \n",
    "        self.name = name\n",
    "        self.weapons = weapons\n",
    "        self.power = power\n",
    "\n",
    "    def count_fight(self, weapon, weapon_power):\n",
    "        self.weapons.append(weapon)\n",
    "        self.power += weapon_power  # 总战力=武器战力之和\n",
    "\n",
    "lijing = Lijing('李靖')\n",
    "print(lijing.weapons)\n",
    "lijing.count_fight('七宝玲珑塔', 50)  # 七宝玲珑塔 战力 50\n",
    "print(lijing.power)"
   ]
  },
  {
   "cell_type": "code",
   "execution_count": 6,
   "metadata": {},
   "outputs": [
    {
     "name": "stdout",
     "output_type": "stream",
     "text": [
      "[]\n",
      "['乾坤圈', '混天绫']\n",
      "['七宝玲珑塔']\n",
      "60\n",
      "['乾坤圈', '混天绫', '火尖枪']\n",
      "100\n"
     ]
    }
   ],
   "source": [
    "class Lijing: # 李靖\n",
    "    # 初始化函数，为每个实例创建4个参数（其中后3个参数有默认值）\n",
    "    def __init__(self, name, weapons=[], power=10): \n",
    "        self.name = name\n",
    "        self.weapons = weapons\n",
    "        self.power = power\n",
    "\n",
    "    def count_fight(self, weapon, weapon_power):\n",
    "        self.weapons.append(weapon)\n",
    "        self.power += weapon_power  # 总战力=武器战力之和\n",
    "        \n",
    "# your code here        \n",
    "# 请你完成子类的定制（包括初始化方法和count_fight函数）\n",
    "class Nezha(Lijing): # 哪吒\n",
    "    def __init__(self,name,weapons=['乾坤圈','混天绫'],power = 60):\n",
    "        super().__init__(name,weapons,power)\n",
    "    def conunt_fight(self,):\n",
    "        pass\n",
    "    \n",
    "# 通过两个实例，完成子类和父类的对比（可自行验证）\n",
    "lijing = Lijing('李靖')\n",
    "nezha = Nezha('哪吒')\n",
    "print(lijing.weapons)\n",
    "print(nezha.weapons)\n",
    "lijing.count_fight('七宝玲珑塔', 50)  # 七宝玲珑塔 战力 50\n",
    "print(lijing.weapons)\n",
    "print(lijing.power)\n",
    "nezha.count_fight('火尖枪', 40)  #\n",
    "print(nezha.weapons)\n",
    "print(nezha.power)"
   ]
  },
  {
   "cell_type": "code",
   "execution_count": null,
   "metadata": {},
   "outputs": [],
   "source": []
  }
 ],
 "metadata": {
  "kernelspec": {
   "display_name": "Python 3",
   "language": "python",
   "name": "python3"
  },
  "language_info": {
   "codemirror_mode": {
    "name": "ipython",
    "version": 3
   },
   "file_extension": ".py",
   "mimetype": "text/x-python",
   "name": "python",
   "nbconvert_exporter": "python",
   "pygments_lexer": "ipython3",
   "version": "3.6.5"
  }
 },
 "nbformat": 4,
 "nbformat_minor": 4
}
